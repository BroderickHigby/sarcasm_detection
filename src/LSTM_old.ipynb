{
 "cells": [
  {
   "cell_type": "code",
   "execution_count": 3,
   "metadata": {},
   "outputs": [],
   "source": [
    "import csv\n",
    "\n",
    "with open('train-balanced-sarcasm.csv', 'r') as f:\n",
    "    reader = csv.reader(f)\n",
    "    data = list(reader)"
   ]
  },
  {
   "cell_type": "code",
   "execution_count": 4,
   "metadata": {},
   "outputs": [],
   "source": [
    "import string\n",
    "from nltk.stem.porter import *\n",
    "from nltk.corpus import stopwords\n",
    "\n",
    "\n",
    "X = []\n",
    "Y = []\n",
    "\n",
    "clean_data = []\n",
    "punct = string.punctuation\n",
    "stemmer = PorterStemmer() \n",
    "for d in data[1:]: \n",
    "    label = d[0]\n",
    "    text = d[1]\n",
    "    text = text.lower()\n",
    "    \n",
    "    #Remove punctuation\n",
    "    text = [c for c in text if not (c in punct)]    \n",
    "    text = ' '.join(text)    \n",
    "    \n",
    "    #Stemming and removing stop words gave worse accuracy\n",
    "    \n",
    "    #Remove stop words\n",
    "    #stops = set(stopwords.words(\"english\"))\n",
    "    #text = [w for w in text if not w in stops and len(w) >= 3]\n",
    " \n",
    "    #Stem the words\n",
    "    #text = [stemmer.stem(w) for w in text]\n",
    "    X.append(text)\n",
    "    Y.append(int(label))\n",
    "\n",
    "#The model automatically splits train and validation\n",
    "X_Train = X[:700000]\n",
    "Y_Train = Y[:700000]\n",
    "X_Test = X[700000:900000]\n",
    "Y_Test = Y[700000:900000]"
   ]
  },
  {
   "cell_type": "code",
   "execution_count": 5,
   "metadata": {},
   "outputs": [
    {
     "name": "stderr",
     "output_type": "stream",
     "text": [
      "Using TensorFlow backend.\n"
     ]
    }
   ],
   "source": [
    "from keras.preprocessing.text import Tokenizer\n",
    "from keras.preprocessing.sequence import pad_sequences\n",
    "from keras.models import Sequential\n",
    "from keras.layers import Dense, Flatten, LSTM, Conv1D, MaxPooling1D, Dropout, Activation\n",
    "from keras.layers.embeddings import Embedding"
   ]
  },
  {
   "cell_type": "code",
   "execution_count": 6,
   "metadata": {},
   "outputs": [],
   "source": [
    "vocabulary_size = 20000\n",
    "tokenizer = Tokenizer(num_words= vocabulary_size)\n",
    "tokenizer.fit_on_texts(X_Train)\n",
    "sequences = tokenizer.texts_to_sequences(X_Train)\n",
    "dat = pad_sequences(sequences, maxlen=50)"
   ]
  },
  {
   "cell_type": "code",
   "execution_count": null,
   "metadata": {},
   "outputs": [],
   "source": [
    "model = Sequential()\n",
    "model.add(Embedding(20000, 100, input_length=50))\n",
    "model.add(LSTM(100, dropout=0.2, recurrent_dropout=0.2))\n",
    "model.add(Dense(1, activation='sigmoid'))\n",
    "model.compile(loss='binary_crossentropy', optimizer='adam', metrics=['accuracy'])"
   ]
  },
  {
   "cell_type": "code",
   "execution_count": null,
   "metadata": {
    "scrolled": true
   },
   "outputs": [
    {
     "name": "stdout",
     "output_type": "stream",
     "text": [
      "Train on 420000 samples, validate on 280000 samples\n",
      "Epoch 1/3\n",
      " 77088/420000 [====>.........................] - ETA: 11:08 - loss: 0.6812 - acc: 0.5399"
     ]
    }
   ],
   "source": [
    "import numpy as np\n",
    "model.fit(dat, np.array(Y_Train), validation_split=0.4, epochs=3)"
   ]
  },
  {
   "cell_type": "code",
   "execution_count": null,
   "metadata": {},
   "outputs": [],
   "source": [
    "#Test the model\n",
    "predict = model.predict(pad_sequences(tokenizer.texts_to_sequences(X_Test),maxlen=50))\n",
    "correct = 0\n",
    "output = []\n",
    "for i in predict:\n",
    "    if i<0.50:\n",
    "        output.append(0)\n",
    "    else:\n",
    "        output.append(1)\n",
    "        \n",
    "print(output[:10])\n",
    "print(Y_Test[:10])\n",
    "for i in range(0,len(Y_Test)):\n",
    "    if output[i] == Y_Test[i]:\n",
    "        correct+=1\n",
    "        \n",
    "print(\"Test Accuracy: \"+ str(correct/len(Y_Test)))"
   ]
  },
  {
   "cell_type": "code",
   "execution_count": null,
   "metadata": {
    "scrolled": true
   },
   "outputs": [],
   "source": []
  },
  {
   "cell_type": "code",
   "execution_count": null,
   "metadata": {},
   "outputs": [],
   "source": []
  }
 ],
 "metadata": {
  "kernelspec": {
   "display_name": "Python 3",
   "language": "python",
   "name": "python3"
  },
  "language_info": {
   "codemirror_mode": {
    "name": "ipython",
    "version": 3
   },
   "file_extension": ".py",
   "mimetype": "text/x-python",
   "name": "python",
   "nbconvert_exporter": "python",
   "pygments_lexer": "ipython3",
   "version": "3.6.6"
  }
 },
 "nbformat": 4,
 "nbformat_minor": 2
}
